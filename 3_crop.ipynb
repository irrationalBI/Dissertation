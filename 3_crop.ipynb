{
 "cells": [
  {
   "cell_type": "markdown",
   "id": "b49d39a1-cc40-4523-975b-f28ec74c07d9",
   "metadata": {},
   "source": [
    "# Crop the image"
   ]
  },
  {
   "cell_type": "code",
   "execution_count": 4,
   "id": "b040b7c6-1cf4-4af9-8a6d-014773c0d851",
   "metadata": {},
   "outputs": [],
   "source": [
    "from PIL import Image\n",
    "import os"
   ]
  },
  {
   "cell_type": "code",
   "execution_count": 5,
   "id": "7bc2320f-7ecf-4e9e-b106-edbde9a07930",
   "metadata": {},
   "outputs": [],
   "source": [
    "def crop_to_multiple_of_patch_size(image, patch_size):\n",
    "    image_width, image_height = image.size\n",
    "    new_width = (image_width // patch_size) * patch_size\n",
    "    new_height = (image_height // patch_size) * patch_size\n",
    "\n",
    "    left = (image_width - new_width) // 2\n",
    "    upper = (image_height - new_height) // 2\n",
    "    right = left + new_width\n",
    "    lower = upper + new_height\n",
    "\n",
    "    cropped_image = image.crop((left, upper, right, lower))\n",
    "    return cropped_image"
   ]
  },
  {
   "cell_type": "code",
   "execution_count": 6,
   "id": "702362c6-8698-4733-be91-9f052f92acdd",
   "metadata": {},
   "outputs": [],
   "source": [
    "def crop_image_to_patches(image_path, output_folder, patch_size=256):\n",
    "    \n",
    "    # Open the image and crop to a multiple of patch_size\n",
    "    image = Image.open(image_path)\n",
    "    image = crop_to_multiple_of_patch_size(image, patch_size)\n",
    "    image_width, image_height = image.size\n",
    "\n",
    "    # Count the number of rows and columns\n",
    "    num_cols = image_width // patch_size\n",
    "    num_rows = image_height // patch_size\n",
    "\n",
    "    # Create Output Folder\n",
    "    os.makedirs(output_folder, exist_ok=True)\n",
    "\n",
    "    # Crop the image and save each patch\n",
    "    for row in range(num_rows):\n",
    "        for col in range(num_cols):\n",
    "            left = col * patch_size\n",
    "            upper = row * patch_size\n",
    "            right = left + patch_size\n",
    "            lower = upper + patch_size\n",
    "\n",
    "            patch = image.crop((left, upper, right, lower))\n",
    "            patch_filename = f\"{output_folder}/patch_{row}_{col}.jpg\"\n",
    "            patch.save(patch_filename)\n",
    "\n",
    "    print(f\"A total of {num_rows * num_cols} images are cropped.\")"
   ]
  },
  {
   "cell_type": "code",
   "execution_count": 13,
   "id": "55550bd0-bc73-4e43-bd5c-f59c3aa2e010",
   "metadata": {},
   "outputs": [
    {
     "name": "stdout",
     "output_type": "stream",
     "text": [
      "A total of 40 images are cropped。\n"
     ]
    }
   ],
   "source": [
    "image_path = \"4_unsupervised_clustering/zhengyang/ss_512.jpg\"\n",
    "output_folder = \"4_unsupervised_clustering/zhengyang_1024\"\n",
    "patch_size = 1024\n",
    "crop_image_to_patches(image_path, output_folder, patch_size)"
   ]
  },
  {
   "cell_type": "code",
   "execution_count": null,
   "id": "3c8c1d78-536f-4578-85f1-8ad96fba39e2",
   "metadata": {},
   "outputs": [],
   "source": []
  }
 ],
 "metadata": {
  "kernelspec": {
   "display_name": "Python 3 (ipykernel)",
   "language": "python",
   "name": "python3"
  },
  "language_info": {
   "codemirror_mode": {
    "name": "ipython",
    "version": 3
   },
   "file_extension": ".py",
   "mimetype": "text/x-python",
   "name": "python",
   "nbconvert_exporter": "python",
   "pygments_lexer": "ipython3",
   "version": "3.11.5"
  }
 },
 "nbformat": 4,
 "nbformat_minor": 5
}
