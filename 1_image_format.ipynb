{
 "cells": [
  {
   "cell_type": "markdown",
   "id": "60263462-9489-4d5c-9b28-a8d62e88b0b0",
   "metadata": {},
   "source": [
    "# Image format conversion"
   ]
  },
  {
   "cell_type": "code",
   "execution_count": 1,
   "id": "17b3e82d-3a50-452c-a897-969859be29d3",
   "metadata": {},
   "outputs": [],
   "source": [
    "import os\n",
    "import numpy as np\n",
    "import matplotlib.pyplot as plt\n",
    "from PIL import Image"
   ]
  },
  {
   "cell_type": "markdown",
   "id": "5361ccc5-d79c-4145-829c-28c68887de3d",
   "metadata": {},
   "source": [
    "## TIF to PNG"
   ]
  },
  {
   "cell_type": "code",
   "execution_count": null,
   "id": "676ffacd-6522-459a-a924-f4df7dffba89",
   "metadata": {},
   "outputs": [],
   "source": [
    "# Define input and output folders\n",
    "input_folder = '1_data_preparation/dataset/image'\n",
    "output_folder = '1_data_preparation/dataset_png/image'\n",
    "\n",
    "# Make sure the output folder exists\n",
    "os.makedirs(output_folder, exist_ok=True)\n",
    "\n",
    "# Iterate over all TIF images in the input folder\n",
    "for filename in os.listdir(input_folder):\n",
    "    if filename.endswith('.tif') or filename.endswith('.tiff'):\n",
    "        # Reading TIF images\n",
    "        tif_image = Image.open(os.path.join(input_folder, filename))\n",
    "        \n",
    "        # Save as PNG\n",
    "        base_filename = os.path.splitext(filename)[0]\n",
    "        png_filename = f\"{base_filename}.png\"\n",
    "        tif_image.save(os.path.join(output_folder, png_filename))\n",
    "\n",
    "print(\"Conversion Complete.\")"
   ]
  },
  {
   "cell_type": "markdown",
   "id": "bb970668-de24-4d07-be87-7fe6429b13c6",
   "metadata": {},
   "source": [
    "## TIF to JPG"
   ]
  },
  {
   "cell_type": "code",
   "execution_count": null,
   "id": "e936b3bc-5d29-44a3-a8a0-41853f3ac6b5",
   "metadata": {},
   "outputs": [],
   "source": [
    "# Define input and output folders\n",
    "input_dir = 'path'\n",
    "output_dir = 'path'\n",
    "\n",
    "# Make sure the output folder exists\n",
    "os.makedirs(output_dir, exist_ok=True)\n",
    "\n",
    "# Iterate over all TIF images in the input folder\n",
    "for filename in os.listdir(input_dir):\n",
    "    if filename.endswith('.tif') or filename.endswith('.tiff'):\n",
    "        # Reading TIF images\n",
    "        with Image.open(os.path.join(input_dir, filename)) as img:\n",
    "            # Save as PNG\n",
    "            jpg_filename = os.path.splitext(filename)[0] + '.jpg'\n",
    "            jpg_filepath = os.path.join(output_dir, jpg_filename)\n",
    "            img.convert('RGB').save(jpg_filepath, 'JPEG')\n",
    "            \n",
    "print(\"Conversion Complete.\")"
   ]
  },
  {
   "cell_type": "markdown",
   "id": "9d6f523d-e82c-4889-a5e9-13107d9972dc",
   "metadata": {},
   "source": [
    "## PNG to JPG"
   ]
  },
  {
   "cell_type": "code",
   "execution_count": null,
   "id": "147094da-1bed-4866-ad69-8e5cf6a7f773",
   "metadata": {},
   "outputs": [],
   "source": [
    "# Define input and output folders\n",
    "input_folder = 'path'\n",
    "output_folder = 'path'\n",
    "\n",
    "# Make sure the output folder exists\n",
    "os.makedirs(output_folder, exist_ok=True)\n",
    "\n",
    "# Iterate over all PNG images in the input folder\n",
    "for root, dirs, files in os.walk(input_folder):\n",
    "    for filename in files:\n",
    "        if filename.endswith('.png'):\n",
    "            # Building input and output paths\n",
    "            input_path = os.path.join(root, filename)\n",
    "            relative_path = os.path.relpath(root, input_folder)\n",
    "            output_dir = os.path.join(output_folder, relative_path)\n",
    "            os.makedirs(output_dir, exist_ok=True)\n",
    "            output_path = os.path.join(output_dir, os.path.splitext(filename)[0] + '.jpg')\n",
    "            \n",
    "            # Open and convert images\n",
    "            image = Image.open(input_path)\n",
    "            rgb_image = image.convert('RGB')\n",
    "            rgb_image.save(output_path, 'JPEG')\n",
    "\n",
    "print(\"Conversion Complete.\")"
   ]
  }
 ],
 "metadata": {
  "kernelspec": {
   "display_name": "Python 3 (ipykernel)",
   "language": "python",
   "name": "python3"
  },
  "language_info": {
   "codemirror_mode": {
    "name": "ipython",
    "version": 3
   },
   "file_extension": ".py",
   "mimetype": "text/x-python",
   "name": "python",
   "nbconvert_exporter": "python",
   "pygments_lexer": "ipython3",
   "version": "3.11.5"
  }
 },
 "nbformat": 4,
 "nbformat_minor": 5
}
