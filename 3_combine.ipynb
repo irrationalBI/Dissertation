{
 "cells": [
  {
   "cell_type": "markdown",
   "id": "2909b558-fbd2-45e7-a967-c55dc0772956",
   "metadata": {},
   "source": [
    "# Combine the images"
   ]
  },
  {
   "cell_type": "code",
   "execution_count": null,
   "id": "222b21d3-55bb-467a-b1c0-2fbf74876857",
   "metadata": {},
   "outputs": [],
   "source": [
    "import os\n",
    "import re\n",
    "from PIL import Image"
   ]
  },
  {
   "cell_type": "code",
   "execution_count": null,
   "id": "51dddf81-76f3-44bd-b60b-df23af81f862",
   "metadata": {},
   "outputs": [],
   "source": [
    "# Set the image path\n",
    "image_dir = '3_semantic_segmentation/bobai/ss_512'\n",
    "\n",
    "# Extract the last part of the directory path\n",
    "folder_name = os.path.basename(image_dir)\n",
    "\n",
    "# Create the result image path with the folder name as the file name\n",
    "result_image_path = os.path.join(image_dir, f'{folder_name}.jpg')\n",
    "\n",
    "print(result_image_path)"
   ]
  },
  {
   "cell_type": "code",
   "execution_count": null,
   "id": "ff341dbc-98b2-403a-bae7-996a98288bf4",
   "metadata": {},
   "outputs": [],
   "source": [
    "# Get all image file names\n",
    "image_files = [f for f in os.listdir(image_dir) if f.endswith('.jpg')]\n",
    "\n",
    "# Parse the file name to get the maximum value of the row and column\n",
    "max_row = 0\n",
    "max_col = 0\n",
    "pattern = re.compile(r'.*?_(\\d+)_(\\d+)\\.jpg')\n",
    "image_positions = {}\n",
    "\n",
    "for image_file in image_files:\n",
    "    match = pattern.match(image_file)\n",
    "    if match:\n",
    "        row, col = int(match.group(1)), int(match.group(2))\n",
    "        image_positions[(col, row)] = image_file\n",
    "        if col > max_col:\n",
    "            max_col = col\n",
    "        if row > max_row:\n",
    "            max_row = row\n",
    "            \n",
    "# Open the first image to get the image size\n",
    "first_image = Image.open(os.path.join(image_dir, image_files[0]))\n",
    "img_width, img_height = first_image.size\n",
    "\n",
    "# Create a blank image\n",
    "total_width = (max_col + 1) * img_width\n",
    "total_height = (max_row + 1) * img_height\n",
    "result_image = Image.new('RGB', (total_width, total_height))\n",
    "\n",
    "# Stitch all thumbnails\n",
    "for (col, row), image_file in image_positions.items():\n",
    "    image_path = os.path.join(image_dir, image_file)\n",
    "    img = Image.open(image_path)\n",
    "    result_image.paste(img, (col * img_width, row * img_height))\n",
    "\n",
    "# Save the resulting image\n",
    "result_image.save(result_image_path)\n",
    "\n",
    "print(\"The result has been saved.\")"
   ]
  },
  {
   "cell_type": "code",
   "execution_count": null,
   "id": "3c001b7f-041f-414a-bd8e-b4d5a12fa7f7",
   "metadata": {},
   "outputs": [],
   "source": []
  }
 ],
 "metadata": {
  "kernelspec": {
   "display_name": "Python 3 (ipykernel)",
   "language": "python",
   "name": "python3"
  },
  "language_info": {
   "codemirror_mode": {
    "name": "ipython",
    "version": 3
   },
   "file_extension": ".py",
   "mimetype": "text/x-python",
   "name": "python",
   "nbconvert_exporter": "python",
   "pygments_lexer": "ipython3",
   "version": "3.11.5"
  }
 },
 "nbformat": 4,
 "nbformat_minor": 5
}
